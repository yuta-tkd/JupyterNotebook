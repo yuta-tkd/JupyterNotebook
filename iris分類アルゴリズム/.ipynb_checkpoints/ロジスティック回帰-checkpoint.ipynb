{
 "cells": [
  {
   "cell_type": "markdown",
   "id": "golden-study",
   "metadata": {},
   "source": [
    "# ロジスティック回帰"
   ]
  },
  {
   "cell_type": "markdown",
   "id": "sapphire-compromise",
   "metadata": {},
   "source": [
    "決定境界は線形。説明変数と目的変数の矛盾を最小限に抑える直線を0~1の確率的に出力して分類したもの(3つ以上の分類は、2値分類を多クラス分類へ拡張)。高速なので、高次元(特徴量の数が多い)のデータに対して有効。説明しやすい。"
   ]
  },
  {
   "cell_type": "code",
   "execution_count": 28,
   "id": "complex-charter",
   "metadata": {},
   "outputs": [],
   "source": [
    "import pandas as pd\n",
    "pd.options.display.float_format = '{:.4f}'.format"
   ]
  },
  {
   "cell_type": "code",
   "execution_count": 5,
   "id": "shared-detail",
   "metadata": {},
   "outputs": [
    {
     "data": {
      "text/html": [
       "<div>\n",
       "<style scoped>\n",
       "    .dataframe tbody tr th:only-of-type {\n",
       "        vertical-align: middle;\n",
       "    }\n",
       "\n",
       "    .dataframe tbody tr th {\n",
       "        vertical-align: top;\n",
       "    }\n",
       "\n",
       "    .dataframe thead th {\n",
       "        text-align: right;\n",
       "    }\n",
       "</style>\n",
       "<table border=\"1\" class=\"dataframe\">\n",
       "  <thead>\n",
       "    <tr style=\"text-align: right;\">\n",
       "      <th></th>\n",
       "      <th>sepal length (cm)</th>\n",
       "      <th>sepal width (cm)</th>\n",
       "      <th>petal length (cm)</th>\n",
       "      <th>petal width (cm)</th>\n",
       "      <th>target</th>\n",
       "    </tr>\n",
       "  </thead>\n",
       "  <tbody>\n",
       "    <tr>\n",
       "      <th>0</th>\n",
       "      <td>5.9</td>\n",
       "      <td>3.0</td>\n",
       "      <td>4.2</td>\n",
       "      <td>1.5</td>\n",
       "      <td>1</td>\n",
       "    </tr>\n",
       "    <tr>\n",
       "      <th>1</th>\n",
       "      <td>5.8</td>\n",
       "      <td>2.6</td>\n",
       "      <td>4.0</td>\n",
       "      <td>1.2</td>\n",
       "      <td>1</td>\n",
       "    </tr>\n",
       "    <tr>\n",
       "      <th>2</th>\n",
       "      <td>6.8</td>\n",
       "      <td>3.0</td>\n",
       "      <td>5.5</td>\n",
       "      <td>2.1</td>\n",
       "      <td>2</td>\n",
       "    </tr>\n",
       "    <tr>\n",
       "      <th>3</th>\n",
       "      <td>4.7</td>\n",
       "      <td>3.2</td>\n",
       "      <td>1.3</td>\n",
       "      <td>0.2</td>\n",
       "      <td>0</td>\n",
       "    </tr>\n",
       "    <tr>\n",
       "      <th>4</th>\n",
       "      <td>6.9</td>\n",
       "      <td>3.1</td>\n",
       "      <td>5.1</td>\n",
       "      <td>2.3</td>\n",
       "      <td>2</td>\n",
       "    </tr>\n",
       "  </tbody>\n",
       "</table>\n",
       "</div>"
      ],
      "text/plain": [
       "   sepal length (cm)  sepal width (cm)  petal length (cm)  petal width (cm)  \\\n",
       "0                5.9               3.0                4.2               1.5   \n",
       "1                5.8               2.6                4.0               1.2   \n",
       "2                6.8               3.0                5.5               2.1   \n",
       "3                4.7               3.2                1.3               0.2   \n",
       "4                6.9               3.1                5.1               2.3   \n",
       "\n",
       "   target  \n",
       "0       1  \n",
       "1       1  \n",
       "2       2  \n",
       "3       0  \n",
       "4       2  "
      ]
     },
     "execution_count": 5,
     "metadata": {},
     "output_type": "execute_result"
    }
   ],
   "source": [
    "train = pd.read_csv('data/train.csv')\n",
    "test = pd.read_csv('data/test.csv')\n",
    "train.head()"
   ]
  },
  {
   "cell_type": "code",
   "execution_count": 45,
   "id": "numerous-prompt",
   "metadata": {},
   "outputs": [],
   "source": [
    "X_train = train.iloc[:,0:4]\n",
    "y_train = train.iloc[:,4]\n",
    "X_test = test.iloc[:,0:4]\n",
    "y_test = test.iloc[:,4]"
   ]
  },
  {
   "cell_type": "markdown",
   "id": "beginning-brake",
   "metadata": {},
   "source": [
    "## 標準化"
   ]
  },
  {
   "cell_type": "code",
   "execution_count": 36,
   "id": "fewer-radical",
   "metadata": {},
   "outputs": [],
   "source": [
    "from sklearn.preprocessing import StandardScaler\n",
    "\n",
    "scl = StandardScaler()\n",
    "scl.fit(X_train) #学習用データで標準化\n",
    "\n",
    "X_train_std = scl.transform(X_train)\n",
    "X_test_std = scl.transform(X_test)"
   ]
  },
  {
   "cell_type": "code",
   "execution_count": 37,
   "id": "hourly-broadcasting",
   "metadata": {},
   "outputs": [
    {
     "data": {
      "text/html": [
       "<div>\n",
       "<style scoped>\n",
       "    .dataframe tbody tr th:only-of-type {\n",
       "        vertical-align: middle;\n",
       "    }\n",
       "\n",
       "    .dataframe tbody tr th {\n",
       "        vertical-align: top;\n",
       "    }\n",
       "\n",
       "    .dataframe thead th {\n",
       "        text-align: right;\n",
       "    }\n",
       "</style>\n",
       "<table border=\"1\" class=\"dataframe\">\n",
       "  <thead>\n",
       "    <tr style=\"text-align: right;\">\n",
       "      <th></th>\n",
       "      <th>0</th>\n",
       "      <th>1</th>\n",
       "      <th>2</th>\n",
       "      <th>3</th>\n",
       "    </tr>\n",
       "  </thead>\n",
       "  <tbody>\n",
       "    <tr>\n",
       "      <th>count</th>\n",
       "      <td>112.0000</td>\n",
       "      <td>112.0000</td>\n",
       "      <td>112.0000</td>\n",
       "      <td>112.0000</td>\n",
       "    </tr>\n",
       "    <tr>\n",
       "      <th>mean</th>\n",
       "      <td>0.0000</td>\n",
       "      <td>0.0000</td>\n",
       "      <td>0.0000</td>\n",
       "      <td>-0.0000</td>\n",
       "    </tr>\n",
       "    <tr>\n",
       "      <th>std</th>\n",
       "      <td>1.0045</td>\n",
       "      <td>1.0045</td>\n",
       "      <td>1.0045</td>\n",
       "      <td>1.0045</td>\n",
       "    </tr>\n",
       "    <tr>\n",
       "      <th>min</th>\n",
       "      <td>-1.8291</td>\n",
       "      <td>-2.4221</td>\n",
       "      <td>-1.5042</td>\n",
       "      <td>-1.4438</td>\n",
       "    </tr>\n",
       "    <tr>\n",
       "      <th>25%</th>\n",
       "      <td>-0.9068</td>\n",
       "      <td>-0.5798</td>\n",
       "      <td>-1.2392</td>\n",
       "      <td>-1.1868</td>\n",
       "    </tr>\n",
       "    <tr>\n",
       "      <th>50%</th>\n",
       "      <td>-0.0998</td>\n",
       "      <td>-0.1193</td>\n",
       "      <td>0.2530</td>\n",
       "      <td>0.0987</td>\n",
       "    </tr>\n",
       "    <tr>\n",
       "      <th>75%</th>\n",
       "      <td>0.7071</td>\n",
       "      <td>0.5716</td>\n",
       "      <td>0.7830</td>\n",
       "      <td>0.8700</td>\n",
       "    </tr>\n",
       "    <tr>\n",
       "      <th>max</th>\n",
       "      <td>2.3211</td>\n",
       "      <td>3.1047</td>\n",
       "      <td>1.7313</td>\n",
       "      <td>1.6413</td>\n",
       "    </tr>\n",
       "  </tbody>\n",
       "</table>\n",
       "</div>"
      ],
      "text/plain": [
       "             0        1        2        3\n",
       "count 112.0000 112.0000 112.0000 112.0000\n",
       "mean    0.0000   0.0000   0.0000  -0.0000\n",
       "std     1.0045   1.0045   1.0045   1.0045\n",
       "min    -1.8291  -2.4221  -1.5042  -1.4438\n",
       "25%    -0.9068  -0.5798  -1.2392  -1.1868\n",
       "50%    -0.0998  -0.1193   0.2530   0.0987\n",
       "75%     0.7071   0.5716   0.7830   0.8700\n",
       "max     2.3211   3.1047   1.7313   1.6413"
      ]
     },
     "execution_count": 37,
     "metadata": {},
     "output_type": "execute_result"
    }
   ],
   "source": [
    "pd.DataFrame(X_train_std).describe()\n"
   ]
  },
  {
   "cell_type": "markdown",
   "id": "stunning-sauce",
   "metadata": {},
   "source": [
    "## ロジスティック回帰モデルの学習"
   ]
  },
  {
   "cell_type": "code",
   "execution_count": 48,
   "id": "double-fiber",
   "metadata": {},
   "outputs": [
    {
     "data": {
      "text/html": [
       "<div>\n",
       "<style scoped>\n",
       "    .dataframe tbody tr th:only-of-type {\n",
       "        vertical-align: middle;\n",
       "    }\n",
       "\n",
       "    .dataframe tbody tr th {\n",
       "        vertical-align: top;\n",
       "    }\n",
       "\n",
       "    .dataframe thead th {\n",
       "        text-align: right;\n",
       "    }\n",
       "</style>\n",
       "<table border=\"1\" class=\"dataframe\">\n",
       "  <thead>\n",
       "    <tr style=\"text-align: right;\">\n",
       "      <th></th>\n",
       "      <th>sepal length (cm)</th>\n",
       "      <th>sepal width (cm)</th>\n",
       "    </tr>\n",
       "  </thead>\n",
       "  <tbody>\n",
       "    <tr>\n",
       "      <th>0</th>\n",
       "      <td>5.9000</td>\n",
       "      <td>3.0000</td>\n",
       "    </tr>\n",
       "    <tr>\n",
       "      <th>1</th>\n",
       "      <td>5.8000</td>\n",
       "      <td>2.6000</td>\n",
       "    </tr>\n",
       "    <tr>\n",
       "      <th>2</th>\n",
       "      <td>6.8000</td>\n",
       "      <td>3.0000</td>\n",
       "    </tr>\n",
       "    <tr>\n",
       "      <th>3</th>\n",
       "      <td>4.7000</td>\n",
       "      <td>3.2000</td>\n",
       "    </tr>\n",
       "    <tr>\n",
       "      <th>4</th>\n",
       "      <td>6.9000</td>\n",
       "      <td>3.1000</td>\n",
       "    </tr>\n",
       "    <tr>\n",
       "      <th>...</th>\n",
       "      <td>...</td>\n",
       "      <td>...</td>\n",
       "    </tr>\n",
       "    <tr>\n",
       "      <th>107</th>\n",
       "      <td>4.9000</td>\n",
       "      <td>3.1000</td>\n",
       "    </tr>\n",
       "    <tr>\n",
       "      <th>108</th>\n",
       "      <td>6.3000</td>\n",
       "      <td>2.9000</td>\n",
       "    </tr>\n",
       "    <tr>\n",
       "      <th>109</th>\n",
       "      <td>5.8000</td>\n",
       "      <td>2.7000</td>\n",
       "    </tr>\n",
       "    <tr>\n",
       "      <th>110</th>\n",
       "      <td>7.7000</td>\n",
       "      <td>3.8000</td>\n",
       "    </tr>\n",
       "    <tr>\n",
       "      <th>111</th>\n",
       "      <td>4.6000</td>\n",
       "      <td>3.2000</td>\n",
       "    </tr>\n",
       "  </tbody>\n",
       "</table>\n",
       "<p>112 rows × 2 columns</p>\n",
       "</div>"
      ],
      "text/plain": [
       "     sepal length (cm)  sepal width (cm)\n",
       "0               5.9000            3.0000\n",
       "1               5.8000            2.6000\n",
       "2               6.8000            3.0000\n",
       "3               4.7000            3.2000\n",
       "4               6.9000            3.1000\n",
       "..                 ...               ...\n",
       "107             4.9000            3.1000\n",
       "108             6.3000            2.9000\n",
       "109             5.8000            2.7000\n",
       "110             7.7000            3.8000\n",
       "111             4.6000            3.2000\n",
       "\n",
       "[112 rows x 2 columns]"
      ]
     },
     "execution_count": 48,
     "metadata": {},
     "output_type": "execute_result"
    }
   ],
   "source": [
    "X_train.iloc[:,0:2]"
   ]
  },
  {
   "cell_type": "code",
   "execution_count": 134,
   "id": "split-ancient",
   "metadata": {},
   "outputs": [
    {
     "name": "stdout",
     "output_type": "stream",
     "text": [
      "score : 97.37%\n"
     ]
    }
   ],
   "source": [
    "from sklearn.linear_model import LogisticRegression\n",
    "\n",
    "clf = LogisticRegression()\n",
    "clf.fit(X_train_std, y_train)\n",
    "print(\"score : {:.2f}%\".format(clf.score(X_test_std, y_test)*100))"
   ]
  },
  {
   "cell_type": "markdown",
   "id": "laughing-maldives",
   "metadata": {},
   "source": [
    "#### ハイパーパラメータのチューニング　交差検証を用いたグリッドサーチの場合 "
   ]
  },
  {
   "cell_type": "code",
   "execution_count": 135,
   "id": "wound-jones",
   "metadata": {},
   "outputs": [
    {
     "name": "stdout",
     "output_type": "stream",
     "text": [
      "Best parameters : {'C': 100}\n",
      "Best cross-validation score : 0.964\n",
      "score : 97.37%\n"
     ]
    }
   ],
   "source": [
    "from sklearn.linear_model import LogisticRegression\n",
    "from sklearn.model_selection import GridSearchCV\n",
    "\n",
    "params = {'C' : [0.001, 0.01, 0.1, 1, 10, 100]}\n",
    "\n",
    "rg = LogisticRegression()\n",
    "grid = GridSearchCV(\n",
    "    estimator = rg,\n",
    "    param_grid = params,\n",
    "    cv = 5\n",
    ")\n",
    "grid.fit(X_train_std, y_train)\n",
    "\n",
    "print(\"Best parameters : {}\".format(grid.best_params_))\n",
    "print(\"Best cross-validation score : {:.3f}\".format(grid.best_score_))\n",
    "print(\"score : {:.2f}%\".format(grid.score(X_test_std, y_test)*100))"
   ]
  },
  {
   "cell_type": "markdown",
   "id": "weird-document",
   "metadata": {},
   "source": [
    "## 決定境界(Decision Boundaly)"
   ]
  },
  {
   "cell_type": "markdown",
   "id": "civic-introduction",
   "metadata": {},
   "source": [
    "2つの説明変数のみ使用。\n",
    "C は正則化の度合いを調整するパラメータです。正則化は学習時にペナルティを与えることで過学習を抑える効果があります。C を大きくすると正則化が弱くなり過学習気味になりますが、小さすぎるとデータの特徴を大雑把にしか獲得できません。"
   ]
  },
  {
   "cell_type": "code",
   "execution_count": 183,
   "id": "initial-boards",
   "metadata": {},
   "outputs": [
    {
     "name": "stderr",
     "output_type": "stream",
     "text": [
      "/home/jovyan/work/public/iris分類アルゴリズム/script/decision_boundary.py:18: MatplotlibDeprecationWarning: shading='flat' when X and Y have the same dimensions as C is deprecated since 3.3.  Either specify the corners of the quadrilaterals with X and Y, or pass shading='auto', 'nearest' or 'gouraud', or set rcParams['pcolor.shading'].  This will become an error two minor releases later.\n",
      "  Z = Z.reshape(xx.shape)\n",
      "/home/jovyan/work/public/iris分類アルゴリズム/script/decision_boundary.py:18: MatplotlibDeprecationWarning: shading='flat' when X and Y have the same dimensions as C is deprecated since 3.3.  Either specify the corners of the quadrilaterals with X and Y, or pass shading='auto', 'nearest' or 'gouraud', or set rcParams['pcolor.shading'].  This will become an error two minor releases later.\n",
      "  Z = Z.reshape(xx.shape)\n",
      "/home/jovyan/work/public/iris分類アルゴリズム/script/decision_boundary.py:18: MatplotlibDeprecationWarning: shading='flat' when X and Y have the same dimensions as C is deprecated since 3.3.  Either specify the corners of the quadrilaterals with X and Y, or pass shading='auto', 'nearest' or 'gouraud', or set rcParams['pcolor.shading'].  This will become an error two minor releases later.\n",
      "  Z = Z.reshape(xx.shape)\n"
     ]
    },
    {
     "data": {
      "image/png": "[encoded data removed]",
      "text/plain": [
       "<Figure size 720x216 with 3 Axes>"
      ]
     },
     "metadata": {
      "needs_background": "light"
     },
     "output_type": "display_data"
    }
   ],
   "source": [
    "from script import decision_boundary\n",
    "import matplotlib.pyplot as plt\n",
    "from sklearn.linear_model import LogisticRegression\n",
    "\n",
    "# モジュールの再読み込み\n",
    "# import importlib\n",
    "# importlib.reload(decision_boundary)\n",
    "\n",
    "fig, axes = plt.subplots(1, 3, figsize=(10, 3))\n",
    "\n",
    "for ax, C in zip(axes, [0.01, 1, 100]):\n",
    "    title = \"C=%s\"% (C)\n",
    "    clf = LogisticRegression(C=C)\n",
    "    decision_boundary.decision_boundary(clf, X_train_std[:,0:2], y_train, ax,train.columns[0],train.columns[1],title)\n"
   ]
  },
  {
   "cell_type": "code",
   "execution_count": null,
   "id": "interior-necklace",
   "metadata": {},
   "outputs": [],
   "source": []
  }
 ],
 "metadata": {
  "kernelspec": {
   "display_name": "Python 3",
   "language": "python",
   "name": "python3"
  },
  "language_info": {
   "codemirror_mode": {
    "name": "ipython",
    "version": 3
   },
   "file_extension": ".py",
   "mimetype": "text/x-python",
   "name": "python",
   "nbconvert_exporter": "python",
   "pygments_lexer": "ipython3",
   "version": "3.8.6"
  }
 },
 "nbformat": 4,
 "nbformat_minor": 5
}
