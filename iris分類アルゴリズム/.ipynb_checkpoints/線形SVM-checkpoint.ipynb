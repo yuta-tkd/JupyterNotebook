{
 "cells": [
  {
   "cell_type": "markdown",
   "id": "intermediate-christmas",
   "metadata": {},
   "source": [
    "# 線形サポートベクターマシン (SVM) "
   ]
  },
  {
   "cell_type": "markdown",
   "id": "light-elevation",
   "metadata": {},
   "source": [
    "マージン最大化、つまり他クラスと最も近い位置にいるもの同士(サポートベクトル)を基準として、そのユークリッド距離を最大化するように識別面を定める。境界を引くときに必要なデータはサポートベクトルだけになる。\n",
    "決定境界が非線形にできる。特徴量が増えると(次元が多くなるほど)計算量が膨大、ただ次元が増えても精度は悪くない。"
   ]
  },
  {
   "cell_type": "code",
   "execution_count": 1,
   "id": "stuck-prague",
   "metadata": {},
   "outputs": [],
   "source": [
    "import pandas as pd\n",
    "pd.options.display.float_format = '{:.4f}'.format"
   ]
  },
  {
   "cell_type": "code",
   "execution_count": 2,
   "id": "artistic-disclosure",
   "metadata": {},
   "outputs": [
    {
     "data": {
      "text/html": [
       "<div>\n",
       "<style scoped>\n",
       "    .dataframe tbody tr th:only-of-type {\n",
       "        vertical-align: middle;\n",
       "    }\n",
       "\n",
       "    .dataframe tbody tr th {\n",
       "        vertical-align: top;\n",
       "    }\n",
       "\n",
       "    .dataframe thead th {\n",
       "        text-align: right;\n",
       "    }\n",
       "</style>\n",
       "<table border=\"1\" class=\"dataframe\">\n",
       "  <thead>\n",
       "    <tr style=\"text-align: right;\">\n",
       "      <th></th>\n",
       "      <th>sepal length (cm)</th>\n",
       "      <th>sepal width (cm)</th>\n",
       "      <th>petal length (cm)</th>\n",
       "      <th>petal width (cm)</th>\n",
       "      <th>target</th>\n",
       "    </tr>\n",
       "  </thead>\n",
       "  <tbody>\n",
       "    <tr>\n",
       "      <th>0</th>\n",
       "      <td>5.9000</td>\n",
       "      <td>3.0000</td>\n",
       "      <td>4.2000</td>\n",
       "      <td>1.5000</td>\n",
       "      <td>1</td>\n",
       "    </tr>\n",
       "    <tr>\n",
       "      <th>1</th>\n",
       "      <td>5.8000</td>\n",
       "      <td>2.6000</td>\n",
       "      <td>4.0000</td>\n",
       "      <td>1.2000</td>\n",
       "      <td>1</td>\n",
       "    </tr>\n",
       "    <tr>\n",
       "      <th>2</th>\n",
       "      <td>6.8000</td>\n",
       "      <td>3.0000</td>\n",
       "      <td>5.5000</td>\n",
       "      <td>2.1000</td>\n",
       "      <td>2</td>\n",
       "    </tr>\n",
       "    <tr>\n",
       "      <th>3</th>\n",
       "      <td>4.7000</td>\n",
       "      <td>3.2000</td>\n",
       "      <td>1.3000</td>\n",
       "      <td>0.2000</td>\n",
       "      <td>0</td>\n",
       "    </tr>\n",
       "    <tr>\n",
       "      <th>4</th>\n",
       "      <td>6.9000</td>\n",
       "      <td>3.1000</td>\n",
       "      <td>5.1000</td>\n",
       "      <td>2.3000</td>\n",
       "      <td>2</td>\n",
       "    </tr>\n",
       "  </tbody>\n",
       "</table>\n",
       "</div>"
      ],
      "text/plain": [
       "   sepal length (cm)  sepal width (cm)  petal length (cm)  petal width (cm)  \\\n",
       "0             5.9000            3.0000             4.2000            1.5000   \n",
       "1             5.8000            2.6000             4.0000            1.2000   \n",
       "2             6.8000            3.0000             5.5000            2.1000   \n",
       "3             4.7000            3.2000             1.3000            0.2000   \n",
       "4             6.9000            3.1000             5.1000            2.3000   \n",
       "\n",
       "   target  \n",
       "0       1  \n",
       "1       1  \n",
       "2       2  \n",
       "3       0  \n",
       "4       2  "
      ]
     },
     "execution_count": 2,
     "metadata": {},
     "output_type": "execute_result"
    }
   ],
   "source": [
    "train = pd.read_csv('data/train.csv')\n",
    "test = pd.read_csv('data/test.csv')\n",
    "train.head()"
   ]
  },
  {
   "cell_type": "code",
   "execution_count": 3,
   "id": "incorporated-sword",
   "metadata": {},
   "outputs": [],
   "source": [
    "X_train = train.iloc[:,0:4]\n",
    "y_train = train.iloc[:,4]\n",
    "X_test = test.iloc[:,0:4]\n",
    "y_test = test.iloc[:,4]"
   ]
  },
  {
   "cell_type": "markdown",
   "id": "static-silly",
   "metadata": {},
   "source": [
    "## 標準化"
   ]
  },
  {
   "cell_type": "code",
   "execution_count": 4,
   "id": "federal-arthur",
   "metadata": {},
   "outputs": [],
   "source": [
    "from sklearn.preprocessing import StandardScaler\n",
    "\n",
    "scl = StandardScaler()\n",
    "scl.fit(X_train) #学習用データで標準化\n",
    "\n",
    "X_train_std = scl.transform(X_train)\n",
    "X_test_std = scl.transform(X_test)"
   ]
  },
  {
   "cell_type": "code",
   "execution_count": 5,
   "id": "muslim-brave",
   "metadata": {},
   "outputs": [
    {
     "data": {
      "text/html": [
       "<div>\n",
       "<style scoped>\n",
       "    .dataframe tbody tr th:only-of-type {\n",
       "        vertical-align: middle;\n",
       "    }\n",
       "\n",
       "    .dataframe tbody tr th {\n",
       "        vertical-align: top;\n",
       "    }\n",
       "\n",
       "    .dataframe thead th {\n",
       "        text-align: right;\n",
       "    }\n",
       "</style>\n",
       "<table border=\"1\" class=\"dataframe\">\n",
       "  <thead>\n",
       "    <tr style=\"text-align: right;\">\n",
       "      <th></th>\n",
       "      <th>0</th>\n",
       "      <th>1</th>\n",
       "      <th>2</th>\n",
       "      <th>3</th>\n",
       "    </tr>\n",
       "  </thead>\n",
       "  <tbody>\n",
       "    <tr>\n",
       "      <th>count</th>\n",
       "      <td>112.0000</td>\n",
       "      <td>112.0000</td>\n",
       "      <td>112.0000</td>\n",
       "      <td>112.0000</td>\n",
       "    </tr>\n",
       "    <tr>\n",
       "      <th>mean</th>\n",
       "      <td>0.0000</td>\n",
       "      <td>0.0000</td>\n",
       "      <td>0.0000</td>\n",
       "      <td>-0.0000</td>\n",
       "    </tr>\n",
       "    <tr>\n",
       "      <th>std</th>\n",
       "      <td>1.0045</td>\n",
       "      <td>1.0045</td>\n",
       "      <td>1.0045</td>\n",
       "      <td>1.0045</td>\n",
       "    </tr>\n",
       "    <tr>\n",
       "      <th>min</th>\n",
       "      <td>-1.8291</td>\n",
       "      <td>-2.4221</td>\n",
       "      <td>-1.5042</td>\n",
       "      <td>-1.4438</td>\n",
       "    </tr>\n",
       "    <tr>\n",
       "      <th>25%</th>\n",
       "      <td>-0.9068</td>\n",
       "      <td>-0.5798</td>\n",
       "      <td>-1.2392</td>\n",
       "      <td>-1.1868</td>\n",
       "    </tr>\n",
       "    <tr>\n",
       "      <th>50%</th>\n",
       "      <td>-0.0998</td>\n",
       "      <td>-0.1193</td>\n",
       "      <td>0.2530</td>\n",
       "      <td>0.0987</td>\n",
       "    </tr>\n",
       "    <tr>\n",
       "      <th>75%</th>\n",
       "      <td>0.7071</td>\n",
       "      <td>0.5716</td>\n",
       "      <td>0.7830</td>\n",
       "      <td>0.8700</td>\n",
       "    </tr>\n",
       "    <tr>\n",
       "      <th>max</th>\n",
       "      <td>2.3211</td>\n",
       "      <td>3.1047</td>\n",
       "      <td>1.7313</td>\n",
       "      <td>1.6413</td>\n",
       "    </tr>\n",
       "  </tbody>\n",
       "</table>\n",
       "</div>"
      ],
      "text/plain": [
       "             0        1        2        3\n",
       "count 112.0000 112.0000 112.0000 112.0000\n",
       "mean    0.0000   0.0000   0.0000  -0.0000\n",
       "std     1.0045   1.0045   1.0045   1.0045\n",
       "min    -1.8291  -2.4221  -1.5042  -1.4438\n",
       "25%    -0.9068  -0.5798  -1.2392  -1.1868\n",
       "50%    -0.0998  -0.1193   0.2530   0.0987\n",
       "75%     0.7071   0.5716   0.7830   0.8700\n",
       "max     2.3211   3.1047   1.7313   1.6413"
      ]
     },
     "execution_count": 5,
     "metadata": {},
     "output_type": "execute_result"
    }
   ],
   "source": [
    "pd.DataFrame(X_train_std).describe()\n"
   ]
  },
  {
   "cell_type": "markdown",
   "id": "faced-wings",
   "metadata": {},
   "source": [
    "## SVMの学習"
   ]
  },
  {
   "cell_type": "code",
   "execution_count": null,
   "id": "automated-america",
   "metadata": {},
   "outputs": [],
   "source": []
  }
 ],
 "metadata": {
  "kernelspec": {
   "display_name": "Python 3",
   "language": "python",
   "name": "python3"
  },
  "language_info": {
   "codemirror_mode": {
    "name": "ipython",
    "version": 3
   },
   "file_extension": ".py",
   "mimetype": "text/x-python",
   "name": "python",
   "nbconvert_exporter": "python",
   "pygments_lexer": "ipython3",
   "version": "3.8.6"
  }
 },
 "nbformat": 4,
 "nbformat_minor": 5
}
