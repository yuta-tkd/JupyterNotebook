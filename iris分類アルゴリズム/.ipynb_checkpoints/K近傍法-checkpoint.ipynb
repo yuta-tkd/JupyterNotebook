{
 "cells": [
  {
   "cell_type": "markdown",
   "id": "frank-criterion",
   "metadata": {},
   "source": [
    "# K近傍法 (K nearest neighbors)"
   ]
  },
  {
   "cell_type": "markdown",
   "id": "strong-baptist",
   "metadata": {},
   "source": [
    "ノンパラメトリック(予測時に関数の形が決まっていない)。予測時に、その予測するデータから近い順に学習データをk個ピックアップして多数決でクラスを分類する。次元が大きくなるほど、近傍が不確かになり、精度が落ちる。"
   ]
  }
 ],
 "metadata": {
  "kernelspec": {
   "display_name": "Python 3",
   "language": "python",
   "name": "python3"
  },
  "language_info": {
   "codemirror_mode": {
    "name": "ipython",
    "version": 3
   },
   "file_extension": ".py",
   "mimetype": "text/x-python",
   "name": "python",
   "nbconvert_exporter": "python",
   "pygments_lexer": "ipython3",
   "version": "3.8.6"
  }
 },
 "nbformat": 4,
 "nbformat_minor": 5
}
